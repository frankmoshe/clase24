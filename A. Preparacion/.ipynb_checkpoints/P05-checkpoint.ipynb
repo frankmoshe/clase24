{
 "cells": [
  {
   "cell_type": "code",
   "execution_count": 26,
   "metadata": {
    "colab": {},
    "colab_type": "code",
    "id": "58HN_u2zy7vG"
   },
   "outputs": [],
   "source": [
    "import json\n",
    "import re\n",
    "import pandas as pd"
   ]
  },
  {
   "cell_type": "markdown",
   "metadata": {
    "colab_type": "text",
    "id": "DDYAzE4jy7ve"
   },
   "source": [
    "- Functions to clean data"
   ]
  },
  {
   "cell_type": "code",
   "execution_count": 27,
   "metadata": {
    "colab": {},
    "colab_type": "code",
    "id": "XKYKccwXy7vi"
   },
   "outputs": [],
   "source": [
    "# Remove comma\n",
    "def remove_comma(phrase):\n",
    "    phrase = phrase.replace(',', '')\n",
    "    return phrase"
   ]
  },
  {
   "cell_type": "code",
   "execution_count": 28,
   "metadata": {
    "colab": {},
    "colab_type": "code",
    "id": "YylDQ996y7vw"
   },
   "outputs": [],
   "source": [
    "# Remove stop words from phrase\n",
    "def remove_stop_words(phrase):\n",
    "    stop = ['de', 'a', 'o', 'que', 'e', 'do', 'da', 'em', 'um', 'para', 'é', 'com', 'não', 'uma', 'os', 'no', 'se', 'na', 'por', 'mais', 'as', 'dos', 'como', 'mas', 'foi', 'ao', 'ele', 'das', 'tem', 'à', 'seu', 'sua', 'ou', 'ser', 'quando', 'muito', 'há', 'nos', 'já', 'está', 'eu', 'também', 'só', 'pelo', 'pela', 'até', 'isso', 'ela', 'entre', 'era', 'depois', 'sem', 'mesmo', 'aos', 'ter', 'seus', 'quem', 'nas', 'me', 'esse', 'eles', 'estão', 'você', 'tinha', 'foram', 'essa', 'num', 'nem', 'suas', 'meu', 'às', 'minha', 'têm', 'numa', 'pelos', 'elas', 'havia', 'seja', 'qual', 'será', 'nós', 'tenho', 'lhe', 'deles', 'essas', 'esses', 'pelas', 'este', 'fosse', 'dele', 'tu', 'te', 'vocês', 'vos', 'lhes', 'meus', 'minhas', 'teu', 'tua', 'teus', 'tuas', 'nosso', 'nossa', 'nossos', 'nossas', 'dela', 'delas', 'esta', 'estes', 'estas', 'aquele', 'aquela', 'aqueles', 'aquelas', 'isto', 'aquilo', 'estou', 'está', 'estamos', 'estão', 'estive', 'esteve', 'estivemos', 'estiveram', 'estava', 'estávamos', 'estavam', 'estivera', 'estivéramos', 'esteja', 'estejamos', 'estejam', 'estivesse', 'estivéssemos', 'estivessem', 'estiver', 'estivermos', 'estiverem', 'hei', 'há', 'havemos', 'hão', 'houve', 'houvemos', 'houveram', 'houvera', 'houvéramos', 'haja', 'hajamos', 'hajam', 'houvesse', 'houvéssemos', 'houvessem', 'houver', 'houvermos', 'houverem', 'houverei', 'houverá', 'houveremos', 'houverão', 'houveria', 'houveríamos', 'houveriam', 'sou', 'somos', 'são', 'era', 'éramos', 'eram', 'fui', 'foi', 'fomos', 'foram', 'fora', 'fôramos', 'seja', 'sejamos', 'sejam', 'fosse', 'fôssemos', 'fossem', 'for', 'formos', 'forem', 'serei', 'será', 'seremos', 'serão', 'seria', 'seríamos', 'seriam', 'tenho', 'tem', 'temos', 'tém', 'tinha', 'tínhamos', 'tinham', 'tive', 'teve', 'tivemos', 'tiveram', 'tivera', 'tivéramos', 'tenha', 'tenhamos', 'tenham', 'tivesse', 'tivéssemos', 'tivessem', 'tiver', 'tivermos', 'tiverem', 'terei', 'terá', 'teremos', 'terão', 'teria', 'teríamos', 'teriam']\n",
    "    words = [item for item in phrase.split(' ') if item not in stop]\n",
    "    phrase = ' '.join(words)\n",
    "    return phrase"
   ]
  },
  {
   "cell_type": "code",
   "execution_count": 29,
   "metadata": {},
   "outputs": [],
   "source": [
    "# Simple portuguese characters\n",
    "def replace_portuguese(phrase):\n",
    "    characters = {'ç':'c', 'á':'a', 'à':'a', 'é':'e', 'í':'i', 'ó':'o', 'ú':'u'}\n",
    "    trans = str.maketrans(characters)\n",
    "    phrase = ''.join(phrase.lower()).translate(trans)\n",
    "    return phrase"
   ]
  },
  {
   "cell_type": "code",
   "execution_count": 30,
   "metadata": {
    "colab": {},
    "colab_type": "code",
    "id": "6W5V_g0Zy7v-"
   },
   "outputs": [],
   "source": [
    "# Replace symbols NEW\n",
    "def replace_symbols(phrase):\n",
    "    phrase = phrase.replace('(m)', 'male').replace('(f)', 'female').replace(':', ' ').replace('-', ' ').replace('+', ' ').replace('(', ' ').replace(')', ' ').replace('.', ' ').replace('p/', 'para ').replace('c/', 'com ').replace('s/', 'sem ').replace('/', ' ')\n",
    "    return phrase"
   ]
  },
  {
   "cell_type": "code",
   "execution_count": 31,
   "metadata": {
    "colab": {},
    "colab_type": "code",
    "id": "xbY1euszy7wP"
   },
   "outputs": [],
   "source": [
    "# Remove small words\n",
    "def remove_small(phrase):\n",
    "    words = [item for item in phrase.split(' ') if len(item) > 1]\n",
    "    phrase = ' '.join(words)\n",
    "    return phrase"
   ]
  },
  {
   "cell_type": "code",
   "execution_count": 32,
   "metadata": {},
   "outputs": [],
   "source": [
    "# Create new words\n",
    "def add_words(phrase):\n",
    "    words = phrase.split(' ')\n",
    "    if len(words) > 2:\n",
    "        new_words = words[0] + words[1] + ' ' + words[1] + words[2] + ' ' + words[0] + words[2] + ' ' + words[0] + words[-1] + ' ' + words[0] + words[-2]\n",
    "        phrase = new_words + ' ' + phrase\n",
    "    return phrase"
   ]
  },
  {
   "cell_type": "markdown",
   "metadata": {
    "colab_type": "text",
    "id": "Jjwfm-b8y7wg"
   },
   "source": [
    "- Load data from Base\n",
    "\n",
    "We have 22009 products and 2578 unique subcats."
   ]
  },
  {
   "cell_type": "code",
   "execution_count": 33,
   "metadata": {
    "colab": {},
    "colab_type": "code",
    "id": "5L3oD-_vy7wj"
   },
   "outputs": [],
   "source": [
    "data = pd.read_csv('../Datos/Base/basico.csv', sep=',')"
   ]
  },
  {
   "cell_type": "code",
   "execution_count": 34,
   "metadata": {},
   "outputs": [
    {
     "data": {
      "text/html": [
       "<div>\n",
       "<style scoped>\n",
       "    .dataframe tbody tr th:only-of-type {\n",
       "        vertical-align: middle;\n",
       "    }\n",
       "\n",
       "    .dataframe tbody tr th {\n",
       "        vertical-align: top;\n",
       "    }\n",
       "\n",
       "    .dataframe thead th {\n",
       "        text-align: right;\n",
       "    }\n",
       "</style>\n",
       "<table border=\"1\" class=\"dataframe\">\n",
       "  <thead>\n",
       "    <tr style=\"text-align: right;\">\n",
       "      <th></th>\n",
       "      <th>description</th>\n",
       "      <th>cat_sub</th>\n",
       "      <th>category</th>\n",
       "      <th>subcategory</th>\n",
       "    </tr>\n",
       "  </thead>\n",
       "  <tbody>\n",
       "    <tr>\n",
       "      <th>0</th>\n",
       "      <td>pasta int vitapower 1,005kg amend/shot</td>\n",
       "      <td>0_0</td>\n",
       "      <td>0</td>\n",
       "      <td>0</td>\n",
       "    </tr>\n",
       "    <tr>\n",
       "      <th>1</th>\n",
       "      <td>esponja bettanin brilhus c/1</td>\n",
       "      <td>1_1</td>\n",
       "      <td>1</td>\n",
       "      <td>1</td>\n",
       "    </tr>\n",
       "    <tr>\n",
       "      <th>2</th>\n",
       "      <td>agua min schin s/gas 500ml</td>\n",
       "      <td>2_2</td>\n",
       "      <td>2</td>\n",
       "      <td>2</td>\n",
       "    </tr>\n",
       "    <tr>\n",
       "      <th>3</th>\n",
       "      <td>fita dupla face c/suporte scotch</td>\n",
       "      <td>3_3</td>\n",
       "      <td>3</td>\n",
       "      <td>3</td>\n",
       "    </tr>\n",
       "    <tr>\n",
       "      <th>4</th>\n",
       "      <td>massa pizza romanha oregano pct 160g</td>\n",
       "      <td>4_4</td>\n",
       "      <td>4</td>\n",
       "      <td>4</td>\n",
       "    </tr>\n",
       "  </tbody>\n",
       "</table>\n",
       "</div>"
      ],
      "text/plain": [
       "                              description cat_sub  category  subcategory\n",
       "0  pasta int vitapower 1,005kg amend/shot     0_0         0            0\n",
       "1            esponja bettanin brilhus c/1     1_1         1            1\n",
       "2              agua min schin s/gas 500ml     2_2         2            2\n",
       "3        fita dupla face c/suporte scotch     3_3         3            3\n",
       "4    massa pizza romanha oregano pct 160g     4_4         4            4"
      ]
     },
     "execution_count": 34,
     "metadata": {},
     "output_type": "execute_result"
    }
   ],
   "source": [
    "data.head()"
   ]
  },
  {
   "cell_type": "code",
   "execution_count": 35,
   "metadata": {
    "colab": {},
    "colab_type": "code",
    "id": "s6iYly7Hy7w3"
   },
   "outputs": [],
   "source": [
    "# 1. Remove ',' because are used to define decimal numbers, however are unnecessary\n",
    "data['desc'] = data['description'].apply(remove_comma)"
   ]
  },
  {
   "cell_type": "code",
   "execution_count": 36,
   "metadata": {
    "colab": {},
    "colab_type": "code",
    "id": "RZ7kbqCGy7xE"
   },
   "outputs": [],
   "source": [
    "# 2. Remove stop words\n",
    "data['desc'] = data['desc'].apply(remove_stop_words)"
   ]
  },
  {
   "cell_type": "code",
   "execution_count": 37,
   "metadata": {},
   "outputs": [],
   "source": [
    "# 3. Improve portugues characters\n",
    "data['desc'] = data['desc'].apply(replace_portuguese)"
   ]
  },
  {
   "cell_type": "code",
   "execution_count": 38,
   "metadata": {
    "colab": {},
    "colab_type": "code",
    "id": "_gcAYReCy7xP"
   },
   "outputs": [],
   "source": [
    "# 4. Replace symbols\n",
    "data['desc'] = data['desc'].apply(replace_symbols)"
   ]
  },
  {
   "cell_type": "code",
   "execution_count": 39,
   "metadata": {
    "colab": {},
    "colab_type": "code",
    "id": "8A8sW8huy7xU"
   },
   "outputs": [],
   "source": [
    "# 5. Remove less than 2 characters\n",
    "data['desc'] = data['desc'].apply(remove_small)"
   ]
  },
  {
   "cell_type": "code",
   "execution_count": 40,
   "metadata": {},
   "outputs": [],
   "source": [
    "# 5b. Convert to lowercase \n",
    "data['desc'] = data['desc'].str.lower()"
   ]
  },
  {
   "cell_type": "code",
   "execution_count": 41,
   "metadata": {},
   "outputs": [],
   "source": [
    "# 6. Replacing measures\n",
    "data['desc'] = data['desc'].replace(to_replace=r'\\b\\d*ml\\b', value='liquido', regex=True)\n",
    "data['desc'] = data['desc'].replace(to_replace=r'\\b\\d*l\\b', value='liquido', regex=True)"
   ]
  },
  {
   "cell_type": "code",
   "execution_count": 42,
   "metadata": {},
   "outputs": [],
   "source": [
    "data['desc'] = data['desc'].replace(to_replace=r'\\b\\d*g\\b', value='gramos', regex=True)\n",
    "data['desc'] = data['desc'].replace(to_replace=r'\\b\\d*gr\\b', value='gramos', regex=True)\n",
    "data['desc'] = data['desc'].replace(to_replace=r'\\b\\d*kg\\b', value='kilos', regex=True)"
   ]
  },
  {
   "cell_type": "code",
   "execution_count": 43,
   "metadata": {},
   "outputs": [],
   "source": [
    "data['desc'] = data['desc'].replace(to_replace=r'\\b\\d*cm\\b', value='tamanho', regex=True)"
   ]
  },
  {
   "cell_type": "code",
   "execution_count": 44,
   "metadata": {},
   "outputs": [],
   "source": [
    "data['desc'] = data['desc'].replace(to_replace=r'\\b(\\d+x\\d+)\\b', value='volume', regex=True)\n",
    "data['desc'] = data['desc'].replace(to_replace=r'\\b(\\d+x\\d+cm)\\b', value='volume', regex=True)"
   ]
  },
  {
   "cell_type": "code",
   "execution_count": 45,
   "metadata": {},
   "outputs": [],
   "source": [
    "data['desc'] = data['desc'].replace(to_replace=r'\\d+%', value=' porcentagem ', regex=True)\n",
    "data['desc'] = data['desc'].replace(to_replace=r'\\b(\\d+w)\\b', value='watts', regex=True)\n",
    "data['desc'] = data['desc'].replace(to_replace=r'\\b(\\d+v)\\b', value='voltagem', regex=True)"
   ]
  },
  {
   "cell_type": "code",
   "execution_count": 46,
   "metadata": {},
   "outputs": [],
   "source": [
    "# 7. Add words\n",
    "data['desc'] = data['desc'].apply(add_words)"
   ]
  },
  {
   "cell_type": "markdown",
   "metadata": {
    "colab_type": "text",
    "id": "Pb4wDodqy7xh"
   },
   "source": [
    "- Generate Train and Test datasets\n",
    "\n",
    "> Considering each cat_sub as and independent group. Each one will separate 50% to train and test. However, if there are less than 2 products, will not be considered. "
   ]
  },
  {
   "cell_type": "code",
   "execution_count": 47,
   "metadata": {
    "colab": {},
    "colab_type": "code",
    "id": "Cv4El_oky7xi"
   },
   "outputs": [],
   "source": [
    "percentage = 50"
   ]
  },
  {
   "cell_type": "code",
   "execution_count": 48,
   "metadata": {
    "colab": {},
    "colab_type": "code",
    "id": "MBDBtqLyy7xn"
   },
   "outputs": [],
   "source": [
    "with open('../Datos/Base/cat_sub_counter.json') as json_file:\n",
    "    cat_sub_counter = json.load(json_file)"
   ]
  },
  {
   "cell_type": "code",
   "execution_count": null,
   "metadata": {
    "colab": {},
    "colab_type": "code",
    "id": "Q3eWlBtZy7xs"
   },
   "outputs": [],
   "source": [
    "train = []\n",
    "test = []\n",
    "for cat_sub, total in cat_sub_counter.items():\n",
    "\n",
    "    df_temp = data.query('cat_sub == \"' + cat_sub + '\"')\n",
    "    \n",
    "    rows_number_train = int(total*(percentage/100))\n",
    "    train.append(df_temp.head(rows_number_train))\n",
    "    \n",
    "    rows_number_test = total - rows_number_train\n",
    "    test.append(df_temp.tail(rows_number_test))"
   ]
  },
  {
   "cell_type": "code",
   "execution_count": null,
   "metadata": {
    "colab": {},
    "colab_type": "code",
    "id": "EXyX6IDWy7xx"
   },
   "outputs": [],
   "source": [
    "train_df = pd.concat(train)\n",
    "test_df = pd.concat(test)"
   ]
  },
  {
   "cell_type": "code",
   "execution_count": null,
   "metadata": {},
   "outputs": [],
   "source": [
    "train_df.to_csv('../Datos/Generados/05train.csv', index = False)\n",
    "test_df.to_csv('../Datos/Generados/05test.csv', index = False)"
   ]
  },
  {
   "cell_type": "code",
   "execution_count": null,
   "metadata": {},
   "outputs": [],
   "source": []
  },
  {
   "cell_type": "code",
   "execution_count": null,
   "metadata": {},
   "outputs": [],
   "source": []
  },
  {
   "cell_type": "code",
   "execution_count": null,
   "metadata": {},
   "outputs": [],
   "source": []
  }
 ],
 "metadata": {
  "kernelspec": {
   "display_name": "Python 3",
   "language": "python",
   "name": "python3"
  },
  "language_info": {
   "codemirror_mode": {
    "name": "ipython",
    "version": 3
   },
   "file_extension": ".py",
   "mimetype": "text/x-python",
   "name": "python",
   "nbconvert_exporter": "python",
   "pygments_lexer": "ipython3",
   "version": "3.7.0"
  }
 },
 "nbformat": 4,
 "nbformat_minor": 4
}
