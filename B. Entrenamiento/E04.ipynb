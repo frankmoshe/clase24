{
 "cells": [
  {
   "cell_type": "code",
   "execution_count": 1,
   "metadata": {},
   "outputs": [],
   "source": [
    "from sklearn.feature_extraction.text import TfidfTransformer\n",
    "from sklearn.feature_extraction.text import CountVectorizer\n",
    "from sklearn.linear_model import SGDClassifier\n",
    "from sklearn.svm import SVC, LinearSVC\n",
    "from sklearn.ensemble import AdaBoostClassifier\n",
    "\n",
    "import pandas as pd\n",
    "import numpy as np\n",
    "import json"
   ]
  },
  {
   "cell_type": "code",
   "execution_count": 2,
   "metadata": {},
   "outputs": [],
   "source": [
    "alpha_df = pd.read_csv('../Datos/Generados/04train.csv', index_col=False)\n",
    "beta_df = pd.read_csv('../Datos/Generados/04test.csv', index_col=False)"
   ]
  },
  {
   "cell_type": "code",
   "execution_count": 3,
   "metadata": {},
   "outputs": [
    {
     "data": {
      "text/html": [
       "<div>\n",
       "<style scoped>\n",
       "    .dataframe tbody tr th:only-of-type {\n",
       "        vertical-align: middle;\n",
       "    }\n",
       "\n",
       "    .dataframe tbody tr th {\n",
       "        vertical-align: top;\n",
       "    }\n",
       "\n",
       "    .dataframe thead th {\n",
       "        text-align: right;\n",
       "    }\n",
       "</style>\n",
       "<table border=\"1\" class=\"dataframe\">\n",
       "  <thead>\n",
       "    <tr style=\"text-align: right;\">\n",
       "      <th></th>\n",
       "      <th>description</th>\n",
       "      <th>cat_sub</th>\n",
       "      <th>category</th>\n",
       "      <th>subcategory</th>\n",
       "      <th>desc</th>\n",
       "    </tr>\n",
       "  </thead>\n",
       "  <tbody>\n",
       "    <tr>\n",
       "      <th>0</th>\n",
       "      <td>sandalia havaianas top disney amar banana 35/36</td>\n",
       "      <td>21_22</td>\n",
       "      <td>21</td>\n",
       "      <td>22</td>\n",
       "      <td>sandaliahavaianas havaianastop sandaliatop san...</td>\n",
       "    </tr>\n",
       "    <tr>\n",
       "      <th>1</th>\n",
       "      <td>sandalia havaianas top max cinza aco 45/46</td>\n",
       "      <td>21_22</td>\n",
       "      <td>21</td>\n",
       "      <td>22</td>\n",
       "      <td>sandaliahavaianas havaianastop sandaliatop san...</td>\n",
       "    </tr>\n",
       "    <tr>\n",
       "      <th>2</th>\n",
       "      <td>sand havaianas sl org 33/34 areia</td>\n",
       "      <td>21_22</td>\n",
       "      <td>21</td>\n",
       "      <td>22</td>\n",
       "      <td>sandhavaianas havaianassl sandsl sandareia san...</td>\n",
       "    </tr>\n",
       "    <tr>\n",
       "      <th>3</th>\n",
       "      <td>sand (f) havaianas t max st 41/42 bc/mar</td>\n",
       "      <td>21_22</td>\n",
       "      <td>21</td>\n",
       "      <td>22</td>\n",
       "      <td>sandfemale femalehavaianas sandhavaianas sandm...</td>\n",
       "    </tr>\n",
       "    <tr>\n",
       "      <th>4</th>\n",
       "      <td>sandalia havaianas surf bg/pt 39x40</td>\n",
       "      <td>21_22</td>\n",
       "      <td>21</td>\n",
       "      <td>22</td>\n",
       "      <td>sandaliahavaianas havaianassurf sandaliasurf s...</td>\n",
       "    </tr>\n",
       "  </tbody>\n",
       "</table>\n",
       "</div>"
      ],
      "text/plain": [
       "                                       description cat_sub  category  \\\n",
       "0  sandalia havaianas top disney amar banana 35/36   21_22        21   \n",
       "1       sandalia havaianas top max cinza aco 45/46   21_22        21   \n",
       "2                sand havaianas sl org 33/34 areia   21_22        21   \n",
       "3         sand (f) havaianas t max st 41/42 bc/mar   21_22        21   \n",
       "4              sandalia havaianas surf bg/pt 39x40   21_22        21   \n",
       "\n",
       "   subcategory                                               desc  \n",
       "0           22  sandaliahavaianas havaianastop sandaliatop san...  \n",
       "1           22  sandaliahavaianas havaianastop sandaliatop san...  \n",
       "2           22  sandhavaianas havaianassl sandsl sandareia san...  \n",
       "3           22  sandfemale femalehavaianas sandhavaianas sandm...  \n",
       "4           22  sandaliahavaianas havaianassurf sandaliasurf s...  "
      ]
     },
     "execution_count": 3,
     "metadata": {},
     "output_type": "execute_result"
    }
   ],
   "source": [
    "alpha_df.head()"
   ]
  },
  {
   "cell_type": "code",
   "execution_count": 4,
   "metadata": {
    "colab": {},
    "colab_type": "code",
    "id": "_PraJi42y-wH"
   },
   "outputs": [],
   "source": [
    "# Assign dataframes division\n",
    "train_df = alpha_df\n",
    "test_df = beta_df"
   ]
  },
  {
   "cell_type": "code",
   "execution_count": 5,
   "metadata": {},
   "outputs": [],
   "source": [
    "# Count and TFIDF\n",
    "cv = CountVectorizer()\n",
    "cv_fit = cv.fit_transform(train_df['desc'])\n",
    "\n",
    "tfidf_transformer = TfidfTransformer()\n",
    "X_train_tfidf = tfidf_transformer.fit_transform(cv_fit)"
   ]
  },
  {
   "cell_type": "code",
   "execution_count": 6,
   "metadata": {},
   "outputs": [
    {
     "data": {
      "text/plain": [
       "(10358, 39890)"
      ]
     },
     "execution_count": 6,
     "metadata": {},
     "output_type": "execute_result"
    }
   ],
   "source": [
    "X_train_tfidf.shape"
   ]
  },
  {
   "cell_type": "code",
   "execution_count": 7,
   "metadata": {},
   "outputs": [
    {
     "data": {
      "text/plain": [
       "(10358, 39890)"
      ]
     },
     "execution_count": 7,
     "metadata": {},
     "output_type": "execute_result"
    }
   ],
   "source": [
    "cv_fit.shape"
   ]
  },
  {
   "cell_type": "code",
   "execution_count": 8,
   "metadata": {},
   "outputs": [],
   "source": [
    "# SVM\n",
    "clf = LinearSVC(loss='squared_hinge', C=10, random_state=42, max_iter=10000)\n",
    "model = clf.fit(X_train_tfidf, train_df['cat_sub'])"
   ]
  },
  {
   "cell_type": "code",
   "execution_count": 9,
   "metadata": {},
   "outputs": [],
   "source": [
    "# Apply model on test dataset\n",
    "docs_new = test_df['desc']\n",
    "X_new_counts = cv.transform(docs_new)\n",
    "X_new_tfidf = tfidf_transformer.transform(X_new_counts)"
   ]
  },
  {
   "cell_type": "code",
   "execution_count": 10,
   "metadata": {},
   "outputs": [],
   "source": [
    "# Predict\n",
    "predicted = model.predict(X_new_tfidf)"
   ]
  },
  {
   "cell_type": "code",
   "execution_count": 11,
   "metadata": {},
   "outputs": [],
   "source": [
    "test_df['t1'] = predicted\n",
    "test_df[['cat','sub']] = test_df['t1'].str.split(\"_\",expand=True)\n",
    "test_df[['category','subcategory']] = test_df['cat_sub'].str.split(\"_\",expand=True)"
   ]
  },
  {
   "cell_type": "code",
   "execution_count": 12,
   "metadata": {},
   "outputs": [
    {
     "name": "stdout",
     "output_type": "stream",
     "text": [
      "0.7193373959316797 - CATEGORIA Y SUBCATEGORIA\n",
      "0.8892798901381855 - CATEGORIA\n",
      "0.7454295768603554 - SUBCATEGORIA\n"
     ]
    }
   ],
   "source": [
    "print(np.mean(predicted == test_df['cat_sub']), '- CATEGORIA Y SUBCATEGORIA')\n",
    "print(np.mean(test_df['category'] == test_df['cat']), '- CATEGORIA')\n",
    "print(np.mean(test_df['subcategory'] == test_df['sub']), '- SUBCATEGORIA')"
   ]
  }
 ],
 "metadata": {
  "kernelspec": {
   "display_name": "Python 3",
   "language": "python",
   "name": "python3"
  },
  "language_info": {
   "codemirror_mode": {
    "name": "ipython",
    "version": 3
   },
   "file_extension": ".py",
   "mimetype": "text/x-python",
   "name": "python",
   "nbconvert_exporter": "python",
   "pygments_lexer": "ipython3",
   "version": "3.7.0"
  }
 },
 "nbformat": 4,
 "nbformat_minor": 4
}
