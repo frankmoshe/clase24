{
 "cells": [
  {
   "cell_type": "code",
   "execution_count": 1,
   "metadata": {
    "colab": {},
    "colab_type": "code",
    "id": "b_uZ4BkFBmc_"
   },
   "outputs": [],
   "source": [
    "import json\n",
    "import re\n",
    "import pandas as pd"
   ]
  },
  {
   "cell_type": "markdown",
   "metadata": {
    "colab_type": "text",
    "id": "sRPQ6SttBmdC"
   },
   "source": [
    "- Load data\n",
    "\n",
    "We have 22009 products and 2578 unique subcats."
   ]
  },
  {
   "cell_type": "code",
   "execution_count": 2,
   "metadata": {
    "colab": {},
    "colab_type": "code",
    "id": "Lz665MqcBmdD"
   },
   "outputs": [],
   "source": [
    "data_train = pd.read_csv('original.csv', sep=',')"
   ]
  },
  {
   "cell_type": "code",
   "execution_count": 3,
   "metadata": {
    "colab": {},
    "colab_type": "code",
    "id": "hhY_rIyxBmdF",
    "outputId": "fa8b5c28-141d-4a3f-d448-00f546c56819"
   },
   "outputs": [
    {
     "data": {
      "text/html": [
       "<div>\n",
       "<style scoped>\n",
       "    .dataframe tbody tr th:only-of-type {\n",
       "        vertical-align: middle;\n",
       "    }\n",
       "\n",
       "    .dataframe tbody tr th {\n",
       "        vertical-align: top;\n",
       "    }\n",
       "\n",
       "    .dataframe thead th {\n",
       "        text-align: right;\n",
       "    }\n",
       "</style>\n",
       "<table border=\"1\" class=\"dataframe\">\n",
       "  <thead>\n",
       "    <tr style=\"text-align: right;\">\n",
       "      <th></th>\n",
       "      <th>DESCRIÇÃO PARCEIRO</th>\n",
       "      <th>SUB-CATEGORIA</th>\n",
       "      <th>CATEGORIA</th>\n",
       "      <th>DEPARTAMENTO</th>\n",
       "    </tr>\n",
       "  </thead>\n",
       "  <tbody>\n",
       "    <tr>\n",
       "      <th>count</th>\n",
       "      <td>22009</td>\n",
       "      <td>22009</td>\n",
       "      <td>22009</td>\n",
       "      <td>22009</td>\n",
       "    </tr>\n",
       "    <tr>\n",
       "      <th>unique</th>\n",
       "      <td>22009</td>\n",
       "      <td>1968</td>\n",
       "      <td>332</td>\n",
       "      <td>53</td>\n",
       "    </tr>\n",
       "    <tr>\n",
       "      <th>top</th>\n",
       "      <td>ASSAD VITRIZI RETG 3,6L MEDIA</td>\n",
       "      <td>TRADICIONAL</td>\n",
       "      <td>VINHO</td>\n",
       "      <td>MERCEARIA DOCE</td>\n",
       "    </tr>\n",
       "    <tr>\n",
       "      <th>freq</th>\n",
       "      <td>1</td>\n",
       "      <td>810</td>\n",
       "      <td>789</td>\n",
       "      <td>3614</td>\n",
       "    </tr>\n",
       "  </tbody>\n",
       "</table>\n",
       "</div>"
      ],
      "text/plain": [
       "                   DESCRIÇÃO PARCEIRO SUB-CATEGORIA CATEGORIA    DEPARTAMENTO\n",
       "count                           22009         22009     22009           22009\n",
       "unique                          22009          1968       332              53\n",
       "top     ASSAD VITRIZI RETG 3,6L MEDIA   TRADICIONAL     VINHO  MERCEARIA DOCE\n",
       "freq                                1           810       789            3614"
      ]
     },
     "execution_count": 3,
     "metadata": {},
     "output_type": "execute_result"
    }
   ],
   "source": [
    "data_train.describe()"
   ]
  },
  {
   "cell_type": "markdown",
   "metadata": {
    "colab_type": "text",
    "id": "eX9VrfBBBmdI"
   },
   "source": [
    "- Some changes in data, before generating the input\n",
    "    \n",
    "    1. Transform subcategory and category to numbers.\n",
    "    2. Join subcategories and categories to create cat_sub name.\n",
    "    3. Set description to lowercase\n",
    "    4. Export dictionary for category and subcategory names\n",
    "    5. Export basic dataset. Without any refinement.\n",
    "    6. Export counter of products in each cat_sub"
   ]
  },
  {
   "cell_type": "code",
   "execution_count": 4,
   "metadata": {
    "colab": {},
    "colab_type": "code",
    "id": "rP6nxjYnBmdI"
   },
   "outputs": [],
   "source": [
    "# 1.\n",
    "data_train['subcategory'] = pd.factorize(data_train['SUB-CATEGORIA'])[0].astype(str)\n",
    "data_train['category'] = pd.factorize(data_train['CATEGORIA'])[0].astype(str)"
   ]
  },
  {
   "cell_type": "code",
   "execution_count": 5,
   "metadata": {
    "colab": {},
    "colab_type": "code",
    "id": "k6v6bmUjBmdL"
   },
   "outputs": [],
   "source": [
    "# 2\n",
    "data_train['cat_sub'] = data_train['category'].map(str) + '_' + data_train['subcategory'].map(str)"
   ]
  },
  {
   "cell_type": "code",
   "execution_count": 6,
   "metadata": {
    "colab": {},
    "colab_type": "code",
    "id": "z1ANTaYHBmdN"
   },
   "outputs": [],
   "source": [
    "# 3. \n",
    "data_train['description'] = data_train['DESCRIÇÃO PARCEIRO'].str.lower()"
   ]
  },
  {
   "cell_type": "code",
   "execution_count": 7,
   "metadata": {},
   "outputs": [],
   "source": [
    "# 4. DICTIONARY catid1: [subcatid1, subcatid2, ...], catid2: [...], ...\n",
    "tree = data_train.groupby('category')['subcategory'].unique().apply(list).to_dict()"
   ]
  },
  {
   "cell_type": "code",
   "execution_count": 8,
   "metadata": {},
   "outputs": [],
   "source": [
    "# 5. DICTIONARY catid1: namecat1, catid2: namecat2, ... / subcatid1: namesubcat1, subcatid2: namesubcat2, ... \n",
    "categories_names = dict(zip(data_train.category, data_train['CATEGORIA'])) \n",
    "subcategories_names = dict(zip(data_train.subcategory, data_train['SUB-CATEGORIA'])) "
   ]
  },
  {
   "cell_type": "code",
   "execution_count": 9,
   "metadata": {},
   "outputs": [],
   "source": [
    "# 6. DICTIONARY cat_sub1: namecat1, cat_sub1: namecat2, ... / cat_sub1: namesubcat1, cat_sub1: namesubcat2, ... \n",
    "categories = dict(zip(data_train.cat_sub, data_train['CATEGORIA']))\n",
    "subcategories = dict(zip(data_train.cat_sub, data_train['SUB-CATEGORIA']))"
   ]
  },
  {
   "cell_type": "code",
   "execution_count": 10,
   "metadata": {
    "colab": {},
    "colab_type": "code",
    "id": "pzVoGcxqBmdP"
   },
   "outputs": [],
   "source": [
    "# 7. SAVE DICTIONARIES\n",
    "with open('tree.json', 'w') as fp:\n",
    "    json.dump(tree, fp)\n",
    "with open('categories_names.json', 'w') as fp:\n",
    "    json.dump(categories_names, fp)\n",
    "with open('subcategories_names.json', 'w') as fp:\n",
    "    json.dump(subcategories_names, fp)\n",
    "with open('categories.json', 'w') as fp:\n",
    "    json.dump(categories, fp)\n",
    "with open('subcategories.json', 'w') as fp:\n",
    "    json.dump(subcategories, fp)"
   ]
  },
  {
   "cell_type": "code",
   "execution_count": 11,
   "metadata": {
    "colab": {},
    "colab_type": "code",
    "id": "V-RSf-F4BmdS"
   },
   "outputs": [],
   "source": [
    "# 5. \n",
    "header = [\"description\", \"cat_sub\", \"category\", \"subcategory\"]\n",
    "data_train.to_csv('basico.csv', columns = header, index = False)"
   ]
  },
  {
   "cell_type": "code",
   "execution_count": 12,
   "metadata": {
    "colab": {},
    "colab_type": "code",
    "id": "KMkPt-cOBmdU"
   },
   "outputs": [],
   "source": [
    "# 6. \n",
    "df_count = data_train.groupby('cat_sub')['description'].count().sort_values(ascending=False).to_dict()"
   ]
  },
  {
   "cell_type": "code",
   "execution_count": 13,
   "metadata": {
    "colab": {},
    "colab_type": "code",
    "id": "5EvCmUegBmdW"
   },
   "outputs": [],
   "source": [
    "# Generate cat_sub counter json\n",
    "with open('cat_sub_counter.json', 'w') as fp:\n",
    "    json.dump(df_count, fp)"
   ]
  },
  {
   "cell_type": "code",
   "execution_count": null,
   "metadata": {},
   "outputs": [],
   "source": []
  }
 ],
 "metadata": {
  "kernelspec": {
   "display_name": "Python 3",
   "language": "python",
   "name": "python3"
  },
  "language_info": {
   "codemirror_mode": {
    "name": "ipython",
    "version": 3
   },
   "file_extension": ".py",
   "mimetype": "text/x-python",
   "name": "python",
   "nbconvert_exporter": "python",
   "pygments_lexer": "ipython3",
   "version": "3.7.0"
  }
 },
 "nbformat": 4,
 "nbformat_minor": 4
}
